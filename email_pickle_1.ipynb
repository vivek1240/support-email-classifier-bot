{
 "cells": [
  {
   "cell_type": "code",
   "execution_count": null,
   "metadata": {
    "id": "9Y_PBULkreiI"
   },
   "outputs": [],
   "source": []
  },
  {
   "cell_type": "code",
   "execution_count": null,
   "metadata": {
    "id": "oydklgmgruYv"
   },
   "outputs": [],
   "source": [
    "import pickle\n",
    "with open('/home/v-vivek.singh/Desktop/classificationModel.pkl', 'rb') as f:\n",
    "  clf2 = pickle.load(f)"
   ]
  },
  {
   "cell_type": "markdown",
   "metadata": {
    "id": "JsTna1or8R8t"
   },
   "source": [
    "# New Test data Pre-processing"
   ]
  },
  {
   "cell_type": "code",
   "execution_count": null,
   "metadata": {
    "id": "tjLwPhUqr111"
   },
   "outputs": [],
   "source": [
    "# tokenize - break down each sentence into a list of words\n",
    "import gensim\n",
    "def sent_to_words(sentence):\n",
    "        yield(gensim.utils.simple_preprocess(str(sentence), deacc=True))  # deacc=True removes punctuations"
   ]
  },
  {
   "cell_type": "code",
   "execution_count": null,
   "metadata": {
    "id": "ldL-i5BU8V9q"
   },
   "outputs": [],
   "source": [
    "from gensim.utils import simple_preprocess\n",
    "from gensim.parsing.preprocessing import STOPWORDS\n",
    "stop_words = STOPWORDS\n",
    "def remove_stopwords(text):\n",
    "    return [word for word in simple_preprocess(str(text)) if word not in stop_words]"
   ]
  },
  {
   "cell_type": "code",
   "execution_count": null,
   "metadata": {
    "id": "81e9mQj08WAg"
   },
   "outputs": [],
   "source": [
    "import spacy\n",
    "nlp = spacy.load('en_core_web_sm', disable=['parser', 'ner'])\n",
    "def lemmatization(sent, allowed_postags=['NOUN', 'ADJ', 'VERB', 'ADV']):\n",
    "  doc = nlp(\" \".join(sent))\n",
    "  texts_out = [token.lemma_ for token in doc if token.pos_ in allowed_postags]\n",
    "  return texts_out"
   ]
  },
  {
   "cell_type": "code",
   "execution_count": null,
   "metadata": {
    "id": "KdFDyftJr139"
   },
   "outputs": [],
   "source": [
    "def cleaning_new_text(data):\n",
    "  data_words = list(sent_to_words(data))  \n",
    "  data_words= remove_stopwords(data_words)\n",
    "  data_words = lemmatization(data_words, allowed_postags=['NOUN', 'ADJ', 'VERB', 'ADV'])\n",
    "  return data_words"
   ]
  },
  {
   "cell_type": "code",
   "execution_count": null,
   "metadata": {
    "id": "YyMn-wPBr15x"
   },
   "outputs": [],
   "source": [
    "data= str('I have made a flight booking on Yatra. My PNR No are S6ZF2Y . I had booked a return flight for both the PNR. The outbound flight i.eรย \"BOM -TRV\"รย had been cancelled by the airways and the full amount has been credited back to my account.รย Now the Inbound flight i.e.\"รย TRV -รย BOM \" has also been cancelled by the airways and the full amount has been processed to the yatra account on 24th Feb 2020. So I want you to refund me the amount ASAP. When would I get the refund back?Waiting for your reply')\n",
    "data_words= cleaning_new_text(data)\n",
    "from nltk.tokenize.treebank import TreebankWordDetokenizer\n",
    "data= TreebankWordDetokenizer().detokenize(data_words)\n"
   ]
  },
  {
   "cell_type": "markdown",
   "metadata": {
    "id": "0gJmQDjP8kVi"
   },
   "source": [
    "# Making Predictions"
   ]
  },
  {
   "cell_type": "code",
   "execution_count": null,
   "metadata": {
    "id": "pyqgckn48lTi"
   },
   "outputs": [],
   "source": [
    "prediction_category= {0:'Refunds',1:'Cancellation',2:'Others',3:'Amendment',4:'Website Error'}\n",
    "my_prediction = clf2.predict([data])\n",
    "my_prediction= my_prediction[0]\n",
    "my_prediction= prediction_category[my_prediction]\n",
    "print(my_prediction)"
   ]
  }
 ],
 "metadata": {
  "colab": {
   "collapsed_sections": [],
   "name": "email_pickle_1.ipynb",
   "provenance": []
  },
  "kernelspec": {
   "display_name": "Python 3",
   "language": "python",
   "name": "python3"
  },
  "language_info": {
   "codemirror_mode": {
    "name": "ipython",
    "version": 3
   },
   "file_extension": ".py",
   "mimetype": "text/x-python",
   "name": "python",
   "nbconvert_exporter": "python",
   "pygments_lexer": "ipython3",
   "version": "3.6.13"
  }
 },
 "nbformat": 4,
 "nbformat_minor": 1
}
