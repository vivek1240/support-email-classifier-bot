{
  "nbformat": 4,
  "nbformat_minor": 0,
  "metadata": {
    "colab": {
      "name": "support_email_project_part_3.ipynb",
      "provenance": [],
      "collapsed_sections": []
    },
    "kernelspec": {
      "name": "python3",
      "display_name": "Python 3"
    },
    "language_info": {
      "name": "python"
    }
  },
  "cells": [
    {
      "cell_type": "markdown",
      "metadata": {
        "id": "6zcKbJXgrMJr"
      },
      "source": [
        "# Support Email Classification Project part 3 "
      ]
    },
    {
      "cell_type": "markdown",
      "metadata": {
        "id": "RI600jRKuuWR"
      },
      "source": [
        "## Making predictions for new test entries "
      ]
    },
    {
      "cell_type": "markdown",
      "metadata": {
        "id": "s2jLDMXNubxF"
      },
      "source": [
        "### Connnecting to google drive"
      ]
    },
    {
      "cell_type": "code",
      "metadata": {
        "colab": {
          "base_uri": "https://localhost:8080/"
        },
        "id": "rw5Vje51rKa4",
        "outputId": "ab94c4ce-fda1-432b-9d93-c2c95fb24704"
      },
      "source": [
        "from google.colab import drive\n",
        "drive.mount('/cont\n",
        "ent/drive')"
      ],
      "execution_count": 2,
      "outputs": [
        {
          "output_type": "stream",
          "text": [
            "Mounted at /content/drive\n"
          ],
          "name": "stdout"
        }
      ]
    },
    {
      "cell_type": "code",
      "metadata": {
        "colab": {
          "base_uri": "https://localhost:8080/",
          "height": 34
        },
        "id": "Sp698FKpYJ8L",
        "outputId": "75b71054-b4d4-40c0-fbea-55175e01e7ed"
      },
      "source": [
        "pwd"
      ],
      "execution_count": 4,
      "outputs": [
        {
          "output_type": "execute_result",
          "data": {
            "application/vnd.google.colaboratory.intrinsic+json": {
              "type": "string"
            },
            "text/plain": [
              "'/content'"
            ]
          },
          "metadata": {
            "tags": []
          },
          "execution_count": 4
        }
      ]
    },
    {
      "cell_type": "code",
      "metadata": {
        "colab": {
          "base_uri": "https://localhost:8080/"
        },
        "id": "Rjy0qBSkYO-I",
        "outputId": "4d46db9c-ab33-4a47-def3-95303508bdf4"
      },
      "source": [
        "cd /content/drive/MyDrive"
      ],
      "execution_count": 5,
      "outputs": [
        {
          "output_type": "stream",
          "text": [
            "/content/drive/MyDrive\n"
          ],
          "name": "stdout"
        }
      ]
    },
    {
      "cell_type": "markdown",
      "metadata": {
        "id": "Pkyl_q6Orjk8"
      },
      "source": [
        "## Importing Pickle File(Contains our trained classification model)"
      ]
    },
    {
      "cell_type": "code",
      "metadata": {
        "id": "oydklgmgruYv"
      },
      "source": [
        "import pickle\n",
        "with open('classificationModel.pkl', 'rb') as f:\n",
        "  clf2 = pickle.load(f)"
      ],
      "execution_count": 6,
      "outputs": []
    },
    {
      "cell_type": "markdown",
      "metadata": {
        "id": "JsTna1or8R8t"
      },
      "source": [
        "## New Test data Pre-processing"
      ]
    },
    {
      "cell_type": "markdown",
      "metadata": {
        "id": "RUKjMmQnrt66"
      },
      "source": [
        "### Below Are 3 functions for cleaning the raw text"
      ]
    },
    {
      "cell_type": "markdown",
      "metadata": {
        "id": "HAgImu2-tvtA"
      },
      "source": [
        "#### Cleans basic things(speacial chars, nums, leading/trailing spaces etc..)"
      ]
    },
    {
      "cell_type": "code",
      "metadata": {
        "id": "tjLwPhUqr111"
      },
      "source": [
        "# tokenize - break down each sentence into a list of words\n",
        "import gensim\n",
        "def sent_to_words(sentence):\n",
        "        yield(gensim.utils.simple_preprocess(str(sentence), deacc=True))  # deacc=True removes punctuations"
      ],
      "execution_count": 1,
      "outputs": []
    },
    {
      "cell_type": "markdown",
      "metadata": {
        "id": "81m-quL7txrN"
      },
      "source": [
        "#### Removing stop words"
      ]
    },
    {
      "cell_type": "code",
      "metadata": {
        "id": "ldL-i5BU8V9q"
      },
      "source": [
        "from gensim.utils import simple_preprocess\n",
        "from gensim.parsing.preprocessing import STOPWORDS\n",
        "stop_words = STOPWORDS\n",
        "def remove_stopwords(text):\n",
        "    return [word for word in simple_preprocess(str(text)) if word not in stop_words]"
      ],
      "execution_count": 2,
      "outputs": []
    },
    {
      "cell_type": "markdown",
      "metadata": {
        "id": "3ux2cpuit3J3"
      },
      "source": [
        "Performing Lemmtization"
      ]
    },
    {
      "cell_type": "code",
      "metadata": {
        "id": "81e9mQj08WAg"
      },
      "source": [
        "import spacy\n",
        "nlp = spacy.load('en_core_web_sm', disable=['parser', 'ner'])\n",
        "def lemmatization(sent, allowed_postags=['NOUN', 'ADJ', 'VERB', 'ADV']):\n",
        "  doc = nlp(\" \".join(sent))\n",
        "  texts_out = [token.lemma_ for token in doc if token.pos_ in allowed_postags]\n",
        "  return texts_out"
      ],
      "execution_count": 3,
      "outputs": []
    },
    {
      "cell_type": "markdown",
      "metadata": {
        "id": "Gtm4aD9ot7ay"
      },
      "source": [
        "#### Function which calls above 3 functions and returns preprocessed text"
      ]
    },
    {
      "cell_type": "code",
      "metadata": {
        "id": "KdFDyftJr139"
      },
      "source": [
        "def cleaning_new_text(data):\n",
        "  data_words = list(sent_to_words(data))  \n",
        "  data_words= remove_stopwords(data_words)\n",
        "  data_words = lemmatization(data_words, allowed_postags=['NOUN', 'ADJ', 'VERB', 'ADV'])\n",
        "  return data_words"
      ],
      "execution_count": 4,
      "outputs": []
    },
    {
      "cell_type": "code",
      "metadata": {
        "id": "YyMn-wPBr15x"
      },
      "source": [
        "data= str('I have made a flight booking on Yatra. My PNR No are S6ZF2Y . I had booked a return flight for both the PNR. The outbound flight i.eรย \"BOM -TRV\"รย had been cancelled by the airways and the full amount has been credited back to my account.รย Now the Inbound flight i.e.\"รย TRV -รย BOM \" has also been cancelled by the airways and the full amount has been processed to the yatra account on 24th Feb 2020. So I want you to refund me the amount ASAP. When would I get the refund back?Waiting for your reply')\n",
        "data_words= cleaning_new_text(data)\n",
        "from nltk.tokenize.treebank import TreebankWordDetokenizer\n",
        "data= TreebankWordDetokenizer().detokenize(data_words)\n"
      ],
      "execution_count": 5,
      "outputs": []
    },
    {
      "cell_type": "markdown",
      "metadata": {
        "id": "0gJmQDjP8kVi"
      },
      "source": [
        "## Making Predictions"
      ]
    },
    {
      "cell_type": "code",
      "metadata": {
        "id": "pyqgckn48lTi"
      },
      "source": [
        "prediction_category= {0:'Refunds',1:'Cancellation',2:'Others',3:'Amendment',4:'Website Error'}\n",
        "my_prediction = clf2.predict([data])\n",
        "my_prediction= my_prediction[0]\n",
        "my_prediction= prediction_category[my_prediction]\n"
      ],
      "execution_count": 12,
      "outputs": []
    }
  ]
}